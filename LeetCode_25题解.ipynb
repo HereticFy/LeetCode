{
 "cells": [
  {
   "cell_type": "markdown",
   "metadata": {},
   "source": [
    "# 版本1：递归"
   ]
  },
  {
   "cell_type": "code",
   "execution_count": null,
   "metadata": {},
   "outputs": [],
   "source": []
  },
  {
   "cell_type": "code",
   "execution_count": null,
   "metadata": {},
   "outputs": [],
   "source": [
    "# Definition for singly-linked list.\n",
    "# class ListNode:\n",
    "#     def __init__(self, val=0, next=None):\n",
    "#         self.val = val\n",
    "#         self.next = next\n",
    "class Solution:\n",
    "    def reverseKGroup(self, head: ListNode, k: int) -> ListNode:\n",
    "        temp = head\n",
    "        for _ in range(k):  #用for循环看看链表还够不够k个节点\n",
    "            if not temp:\n",
    "                return head\n",
    "            temp = temp.next\n",
    "        \n",
    "        # p和prev是两个前后指针 prev在p前面，以此来遍历和反转链表\n",
    "        p, prev = head, ListNode(None)\n",
    "        for _ in range(k):      #在这个for循环里面，每循环一次，prev和p往后走一步，prev.next指向prev自己，以此来反转长度为k的链表\n",
    "            prev, prev.next, p = p, prev, p.next\n",
    "        #for循环结束后，长度为k的链表被反转，prev指向反转过后的头节点，head则为反转过后的尾节点，p指向下一段链表的头节点\n",
    "        #所以我们使 head.next 等于下一个链表的反转过后的头即可（即用p来递归后得到的链表）\n",
    "        head.next = self.reverseKGroup(p, k)\n",
    "        return prev\n",
    "        \n",
    "        "
   ]
  },
  {
   "cell_type": "code",
   "execution_count": null,
   "metadata": {},
   "outputs": [],
   "source": []
  },
  {
   "cell_type": "code",
   "execution_count": null,
   "metadata": {},
   "outputs": [],
   "source": []
  },
  {
   "cell_type": "code",
   "execution_count": null,
   "metadata": {},
   "outputs": [],
   "source": []
  },
  {
   "cell_type": "code",
   "execution_count": null,
   "metadata": {},
   "outputs": [],
   "source": [
    "# Definition for singly-linked list.\n",
    "# class ListNode:\n",
    "#     def __init__(self, val=0, next=None):\n",
    "#         self.val = val\n",
    "#         self.next = next\n",
    "class Solution:\n",
    "    def reverseKGroup(self, head: ListNode, k: int) -> ListNode:\n",
    "        if not head or k == 1:\n",
    "            return head\n",
    "        #创建一个头节点\n",
    "        first = ListNode(0)\n",
    "        #将这个头节点指向head\n",
    "        first.next = head\n",
    "        #用prev引用这个头节点\n",
    "        prev = first\n",
    "        \n",
    "        while head:\n",
    "            tail = prev    #先确定一个长度为k的链表的尾部在哪\n",
    "            for _ in range(k):\n",
    "                tail = tail.next\n",
    "                if not tail:   #如果遍历的节点不够k，说明这个部分的链表在尾部且长度不够了，我们直接返回first.next即可\n",
    "                    return first.next\n",
    "            #我们把这个长度为k的链表的尾部找到后，定义下一段链表的头，这样才方便我们等下逆转完这个链表后接上下一段的链表\n",
    "            nextHead = tail.next\n",
    "            #使用reverse（head，tail）这个函数，使得我们选出的这段k长度的链表被反转，且返回被反转后的头和尾\n",
    "            head, tail = self.reverse(head, tail)\n",
    "            \n",
    "            #prev指向这个新的头，这样我们就在动态地把前一个链表的尾连接后一个链表的头\n",
    "            prev.next = head\n",
    "            #这个链表的尾巴链接下个链表的头\n",
    "            tail.next = nextHead\n",
    "            #准备下次遍历，把head指向尾节点的下一个节点\n",
    "            head = tail.next\n",
    "            #prev指向尾节点，方便我们下一次的动态链接两个子链表3\n",
    "            prev = tail\n",
    "            \n",
    "        return first.next\n",
    "    \n",
    "    def reverse(self, head, tail):\n",
    "        node1 = tail.next\n",
    "        node2 = head\n",
    "        while node1 != tail:\n",
    "            temp = node2.next\n",
    "            node2.next = node1\n",
    "            node1 = node2\n",
    "            node2 = temp\n",
    "        return tail, head\n",
    "        \n",
    "        "
   ]
  },
  {
   "cell_type": "code",
   "execution_count": null,
   "metadata": {},
   "outputs": [],
   "source": []
  },
  {
   "cell_type": "code",
   "execution_count": null,
   "metadata": {},
   "outputs": [],
   "source": []
  },
  {
   "cell_type": "code",
   "execution_count": null,
   "metadata": {},
   "outputs": [],
   "source": []
  },
  {
   "cell_type": "code",
   "execution_count": null,
   "metadata": {},
   "outputs": [],
   "source": []
  },
  {
   "cell_type": "code",
   "execution_count": null,
   "metadata": {},
   "outputs": [],
   "source": []
  },
  {
   "cell_type": "code",
   "execution_count": null,
   "metadata": {},
   "outputs": [],
   "source": []
  },
  {
   "cell_type": "code",
   "execution_count": null,
   "metadata": {},
   "outputs": [],
   "source": []
  }
 ],
 "metadata": {
  "kernelspec": {
   "display_name": "Python 3",
   "language": "python",
   "name": "python3"
  },
  "language_info": {
   "codemirror_mode": {
    "name": "ipython",
    "version": 3
   },
   "file_extension": ".py",
   "mimetype": "text/x-python",
   "name": "python",
   "nbconvert_exporter": "python",
   "pygments_lexer": "ipython3",
   "version": "3.8.3"
  }
 },
 "nbformat": 4,
 "nbformat_minor": 4
}
