{
 "cells": [
  {
   "cell_type": "markdown",
   "metadata": {},
   "source": [
    "# 1:Two Sum"
   ]
  },
  {
   "cell_type": "markdown",
   "metadata": {},
   "source": [
    "### 用字典解决。 key是遍历到的元素，value是它的index，如果字典里有target减去它的key就直接返回这两个元素的index就行了"
   ]
  },
  {
   "cell_type": "code",
   "execution_count": 5,
   "metadata": {},
   "outputs": [
    {
     "name": "stdout",
     "output_type": "stream",
     "text": [
      "[0, 1]\n"
     ]
    }
   ],
   "source": [
    "class Solution(object):\n",
    "    def twoSum(self, nums, target):\n",
    "        \"\"\"\n",
    "        :type nums: List[int]\n",
    "        :type target: int\n",
    "        :rtype: List[int]\n",
    "        \"\"\"\n",
    "        dic = {}\n",
    "        for index, num1 in enumerate(nums):\n",
    "            num2 = target - num1\n",
    "            if num2 in dic:\n",
    "                return [dic[num2],index]\n",
    "            dic[num1] = index\n",
    "        return None\n",
    "\n",
    "sol = Solution()\n",
    "\n",
    "print(sol.twoSum([2, 7, 11, 15],9))"
   ]
  },
  {
   "cell_type": "markdown",
   "metadata": {},
   "source": [
    "# 2:Add Two Numbers  "
   ]
  },
  {
   "cell_type": "markdown",
   "metadata": {},
   "source": [
    "### 知道初始化的时候使用两个指针就很简单了"
   ]
  },
  {
   "cell_type": "code",
   "execution_count": 14,
   "metadata": {},
   "outputs": [],
   "source": [
    "class ListNode:\n",
    "     def __init__(self, val=0, next=None):\n",
    "         self.val = val\n",
    "         self.next = next\n",
    "\n",
    "class Solution:\n",
    "    def addTwoNumbers(self, l1: ListNode, l2: ListNode) -> ListNode:\n",
    "        carry = 0\n",
    "        dummy = res = ListNode()\n",
    "        while(l1 or l2 or carry):\n",
    "            add = (l1.val if l1 else 0) + (l2.val if l2 else 0)+carry\n",
    "            res.next = ListNode(add%10)\n",
    "            res = res.next\n",
    "            carry = add//10\n",
    "            l1 = l1.next if l1 else None\n",
    "            l2 = l2.next if l2 else None\n",
    "        return dummy.next"
   ]
  },
  {
   "cell_type": "code",
   "execution_count": 15,
   "metadata": {},
   "outputs": [
    {
     "name": "stdout",
     "output_type": "stream",
     "text": [
      "7\n",
      "0\n",
      "8\n"
     ]
    }
   ],
   "source": [
    "l11 = ListNode(3)\n",
    "l12 = ListNode(4,l11)\n",
    "l13 = ListNode(2,l12)\n",
    "\n",
    "l21 = ListNode(4)\n",
    "l22 = ListNode(6,l21)\n",
    "l23 = ListNode(5,l22)\n",
    "\n",
    "s = Solution()\n",
    "l = s.addTwoNumbers(l13,l23)\n",
    "while(l != None):\n",
    "    print(l.val)\n",
    "    l = l.next"
   ]
  },
  {
   "cell_type": "markdown",
   "metadata": {},
   "source": [
    "# 3:Longest Substring Without Repeating Characters"
   ]
  },
  {
   "cell_type": "code",
   "execution_count": 16,
   "metadata": {},
   "outputs": [],
   "source": [
    "#solution 1\n",
    "class Solution:\n",
    "    def lengthOfLongestSubstring(self, s: str) -> int:\n",
    "        k, res, c_dict = -1, 0, {}\n",
    "        for i, c in enumerate(s):\n",
    "            if c in c_dict and c_dict[c] > k:  # 字符c在字典中 且 上次出现的下标大于当前长度的起始下标\n",
    "                k = c_dict[c]\n",
    "                c_dict[c] = i\n",
    "            else:\n",
    "                c_dict[c] = i\n",
    "                res = max(res, i-k)\n",
    "        return res\n",
    "        \n"
   ]
  },
  {
   "cell_type": "code",
   "execution_count": null,
   "metadata": {},
   "outputs": [],
   "source": []
  },
  {
   "cell_type": "code",
   "execution_count": null,
   "metadata": {},
   "outputs": [],
   "source": [
    "#solution 2\n",
    "class Solution:\n",
    "    def lengthOfLongestSubstring(self, s: str) -> int:\n",
    "        # 哈希集合，记录每个字符是否出现过\n",
    "        occ = set()\n",
    "        n = len(s)\n",
    "        # 右指针，初始值为 -1，相当于我们在字符串的左边界的左侧，还没有开始移动\n",
    "        rk, ans = -1, 0\n",
    "        for i in range(n):\n",
    "            if i != 0:\n",
    "                # 左指针向右移动一格，移除一个字符\n",
    "                occ.remove(s[i - 1])\n",
    "            while rk + 1 < n and s[rk + 1] not in occ:\n",
    "                # 不断地移动右指针\n",
    "                occ.add(s[rk + 1])\n",
    "                rk += 1\n",
    "            # 第 i 到 rk 个字符是一个极长的无重复字符子串\n",
    "            ans = max(ans, rk - i + 1)\n",
    "        return ans"
   ]
  },
  {
   "cell_type": "code",
   "execution_count": 17,
   "metadata": {},
   "outputs": [
    {
     "name": "stdout",
     "output_type": "stream",
     "text": [
      "1\n",
      "3\n",
      "3\n"
     ]
    }
   ],
   "source": [
    "class Solution:\n",
    "    def lengthOfLongestSubstring(self, s: str) -> int:\n",
    "        left = -1\n",
    "        dic = {}\n",
    "        res = 0\n",
    "        for i,c in enumerate(s):\n",
    "            if c in dic and dic[c] > left:\n",
    "                \n",
    "                #这里一定要加and dic[c] > left，因为在碰到重复出现的字符时，我们要确保这个重复的字符一定要第一次出现在左边框的右边\n",
    "                #例如： abcddbace 在这里 直到遍历到位置3 没有发现重复字符,res = 4,left = -1。到位置4也就是第二个d的时候，\n",
    "                #我们更新left = 3. \n",
    "                #到位置5, 这个时候分歧出现。 如果不写and后面的条件，\n",
    "                #那么left = 1，到末尾位置8时，left = 2，res = 8-2 = 6 明显错误\n",
    "                #写了and后面的条件的话，left = 3，到最后结果是正确的\n",
    "                #详细说就是，右边框移动的时候遇到重复的字符，如果这个重复的字符在字符的位置是大于目前左边框的\n",
    "                #那么左边框就移动到这个字符的位置，右边框继续移动探索\n",
    "                #如果这个重复的字符在的位置在左边框的左边，那么我们就直接无视，因为这是不影响我们继续探索右边的\n",
    "                \n",
    "                left = dic[c]\n",
    "                dic[c] = i\n",
    "            else:\n",
    "                dic[c] = i\n",
    "                res = max(res,i-left)\n",
    "        return res\n",
    "\n",
    "sol = Solution()\n",
    "\n",
    "print(sol.lengthOfLongestSubstring(\"aaaaaaaaaaaa\"))\n",
    "print(sol.lengthOfLongestSubstring(\"pwwkew\"))\n",
    "print(sol.lengthOfLongestSubstring(\"abcabcbb\"))"
   ]
  },
  {
   "cell_type": "markdown",
   "metadata": {},
   "source": [
    "# 4:Median of Two Sorted Arrays"
   ]
  },
  {
   "cell_type": "markdown",
   "metadata": {},
   "source": [
    "###   solution 1 解析\n",
    "        -时间复杂度为log(n+m)\n",
    "        -思路：对于两个已经排好序的数组，要找到中位数，其实我们就是要找到两个数组合并后的第(n+m)//2个  数，如果是奇数的话\n",
    "        -如果是偶数的话，那么就是要找到第(n+m)//2和第(n+m+2)//2个数，再取他们俩的平均数\n",
    "        -那么我们统一称呼我们要找的那个数在合并数组的第k个位置\n",
    "        -所以我们一开始就安排两个index1和index2分别作为俩数组的游标，一开始等于0\n",
    "        -接下来我们要比较两个数组中的第index1+k//2和第index2+k//2的值\n",
    "        -为什么要取这个k//2？ 因为我们很难直接找到第k个值，我们的思路是排除法\n",
    "        -如果第一个数组里的index1+k//2个数比第二个数组的index2+k//2个数要小\n",
    "        \n",
    "        -说明中位数不可能是这个数，且这个数前面的数都不是\n",
    "        -因为第一个数组中，index1+k//2前面的数都比index1+k//2的这个位置的数小\n",
    "        -有两个极端情况就是要么第二个数组index2+k//2前面的数都比index1+k//2大，那么显然我们上面结论成立\n",
    "        -要么index2+k//2前面的数都比index1+k//2小，那么index1+k//2这个数也就是第k-1个数，也不是第k个数\n",
    "        -反之亦然\n",
    "        \n",
    "        \n",
    "        -那么我们删除这些数后（假设我们删除了x个数），那么我们就继续找第k-x个数\n",
    "        -index1 = index1+k//2 +1或者index2 = index2+k//2+1（视情况而定） -> 二分查找思想\n",
    "        -这样一直到k==1，那么直接比较俩数组剩下的数中，各自第一个数哪个更小，就是哪个了\n",
    "        -就这样我们得到了答案\n",
    "        \n",
    "        -复杂度分析：因为k=(m+n)/2  每次我们二分都是以k为标准，那么复杂度为log(k) ->log((m+n)/2) -> log(m+n)"
   ]
  },
  {
   "cell_type": "code",
   "execution_count": 18,
   "metadata": {},
   "outputs": [],
   "source": [
    "#solution 1\n",
    "class Solution:\n",
    "    def findMedianSortedArrays(self, nums1, nums2) -> float:\n",
    "        n = len(nums1)\n",
    "        m = len(nums2)\n",
    "        if (n+m) % 2 == 1:\n",
    "            return self.getKth(nums1,nums2,(n+m+1)//2)\n",
    "        else:\n",
    "            print(self.getKth(nums1,nums2,(n+m)//2))\n",
    "            print(self.getKth(nums1,nums2,(n+m+2)//2))\n",
    "            return (self.getKth(nums1,nums2,(n+m)//2)+self.getKth(nums1,nums2,(n+m+2)//2))*0.5\n",
    "\n",
    "    def getKth(self, nums1,nums2,k):\n",
    "        index1 = 0\n",
    "        index2 = 0\n",
    "        n = len(nums1)\n",
    "        m = len(nums2)\n",
    "        while True:\n",
    "            if index1 == n:\n",
    "                return nums2[index2 + k - 1]\n",
    "            if index2 == m:\n",
    "                return nums1[index1 + k - 1]\n",
    "            if k == 1:\n",
    "                return min(nums1[index1], nums2[index2])\n",
    "            i = min(n, index1 + k // 2) - 1\n",
    "            j = min(m, index2 + k // 2) - 1\n",
    "            if nums1[i] > nums2[j]:\n",
    "                k -= (j - index2 + 1)\n",
    "                index2 = j + 1\n",
    "            else:\n",
    "                k -= (i - index1 + 1)\n",
    "                index1 = i + 1"
   ]
  },
  {
   "cell_type": "code",
   "execution_count": 21,
   "metadata": {},
   "outputs": [
    {
     "name": "stdout",
     "output_type": "stream",
     "text": [
      "2\n",
      "2\n",
      "3\n",
      "2.5\n"
     ]
    }
   ],
   "source": [
    "sol = Solution()\n",
    "\n",
    "a1 = [1,3]\n",
    "b1 = [2]\n",
    "\n",
    "a2 = [1,2]\n",
    "b2 = [3,4]\n",
    "\n",
    "print(sol.findMedianSortedArrays(a1,b1))\n",
    "print(sol.findMedianSortedArrays(a2,b2))"
   ]
  },
  {
   "cell_type": "markdown",
   "metadata": {},
   "source": [
    "### solution 2 解析\n",
    "这个解利用了中位数的定义\n",
    "首先得明白，中位数是完美分割数组的一个数，意思就是中位数左边的数和右边的数的数量是相等的，且中位数大于左边所有数，小于右边所有数\n",
    "那么我们现在尝试着来分割两个数组来查找这个中位数\n",
    "\n",
    "设数组A是第一个数组，B是第二个数组\n",
    "这里为了方便，我们认为第一个数组长度小于等于第二个数组，且不小于等于的时候，我们在程序中交换两者顺序\n",
    "\n",
    "我们现在需要找出在第一个数组中在第i个位置分割，第二个数组中第j个位置分割，能完美分割出俩数组左边的数的个数加起来等于右边的\n",
    "所以我们先把i初始化为A的长度的一半, j = (m+n+1)//2 - i\n",
    "因为 i+j = m-i+n-j，当m+n是偶数(也就是找出分割后左边的最大值和右边的最小值的平均值)，\n",
    "否则 i+j = m-i+n-j+1（也就是左边的最大值）。 那么我们简化一下 i+j = (m+n+1)/2 -> i = (m+n+1)/2 - j\n",
    "\n",
    "那么我们开始遍历第一个数组，也就是两个里面短的这个数组\n",
    "left = 0，right = m（对于第一个数组的二分查找头尾初始化）\n",
    "i = (left+right)//2\n",
    "j = (m+n+1)//2 - i\n",
    "我们取A[i],A[i-1],B[i],B[i-1]来做比较\n",
    "如果B[j] >= A[i-1]： 那么说明i应该在更加靠近right的位置，那么left = i+1\n",
    "且暂时储存mid1等于俩数组左边的最大值和mid2等于俩数组右边的最小值\n",
    "\n",
    "如果反过来，那么说明i太大了，要往更左边的地方找，那么right = i-1\n",
    "\n",
    "等着left>right，我们就不找了\n",
    "这个时候i和j都在它应该在的位置了\n",
    "\n",
    "这里注意一下特殊情况，就是i和j要是左侧或者右侧没有数字，怎么比较？\n",
    "这种情况下，我们设一个无限小或者无限大的数就ok了\n",
    "\n",
    "-复杂度是log(min(m+n))，因为我们只遍历了其中最短的那个数组"
   ]
  },
  {
   "cell_type": "code",
   "execution_count": null,
   "metadata": {},
   "outputs": [],
   "source": [
    "#solution 2\n",
    "class Solution:\n",
    "    def findMedianSortedArrays(self, nums1, nums2) -> float:\n",
    "        if len(nums1)>len(nums2):\n",
    "            return self.findMedianSortedArrays(nums2,nums1)\n",
    "\n",
    "        m,n,numi1,numj1,numi2,numj2 = len(nums1),len(nums2),0,0,0,0\n",
    "        left,right = 0,m\n",
    "        mid1,mid2 = 0,0\n",
    "        inf = 2**40\n",
    "        while left <= right:\n",
    "            i = (left+right)//2\n",
    "            j = (m+n+1)//2-i\n",
    "            numi1 = -inf if i == 0 else nums1[i-1]\n",
    "            numj1 = -inf if j == 0 else nums2[j-1]\n",
    "            numi2 = inf if i == m else nums1[i]\n",
    "            numj2 = inf if j == n else nums2[j]\n",
    "\n",
    "            if numj2 >= numi1:\n",
    "                left = i+1\n",
    "                mid1,mid2 = max(numi1,numj1),min(numi2,numj2)\n",
    "            else:\n",
    "                right = i-1\n",
    "        return (mid1+mid2)/2 if (n+m)%2 == 0 else mid1"
   ]
  },
  {
   "cell_type": "code",
   "execution_count": null,
   "metadata": {},
   "outputs": [],
   "source": [
    "#solution 3\n",
    "class Solution:\n",
    "    def findMedianSortedArrays(self, nums1, nums2) -> float:\n",
    "        def getKthElement(k):\n",
    "            \"\"\"\n",
    "            - 主要思路：要找到第 k (k>1) 小的元素，那么就取 pivot1 = nums1[k/2-1] 和 pivot2 = nums2[k/2-1] 进行比较\n",
    "            - 这里的 \"/\" 表示整除\n",
    "            - nums1 中小于等于 pivot1 的元素有 nums1[0 .. k/2-2] 共计 k/2-1 个\n",
    "            - nums2 中小于等于 pivot2 的元素有 nums2[0 .. k/2-2] 共计 k/2-1 个\n",
    "            - 取 pivot = min(pivot1, pivot2)，两个数组中小于等于 pivot 的元素共计不会超过 (k/2-1) + (k/2-1) <= k-2 个\n",
    "            - 这样 pivot 本身最大也只能是第 k-1 小的元素\n",
    "            - 如果 pivot = pivot1，那么 nums1[0 .. k/2-1] 都不可能是第 k 小的元素。把这些元素全部 \"删除\"，剩下的作为新的 nums1 数组\n",
    "            - 如果 pivot = pivot2，那么 nums2[0 .. k/2-1] 都不可能是第 k 小的元素。把这些元素全部 \"删除\"，剩下的作为新的 nums2 数组\n",
    "            - 由于我们 \"删除\" 了一些元素（这些元素都比第 k 小的元素要小），因此需要修改 k 的值，减去删除的数的个数\n",
    "            \"\"\"\n",
    "\n",
    "            index1, index2 = 0, 0\n",
    "            while True:\n",
    "                # 特殊情况\n",
    "                if index1 == m:\n",
    "                    return nums2[index2 + k - 1]\n",
    "                if index2 == n:\n",
    "                    return nums1[index1 + k - 1]\n",
    "                if k == 1:\n",
    "                    return min(nums1[index1], nums2[index2])\n",
    "\n",
    "                # 正常情况\n",
    "                newIndex1 = min(index1 + k // 2 - 1, m - 1)\n",
    "                newIndex2 = min(index2 + k // 2 - 1, n - 1)\n",
    "                pivot1, pivot2 = nums1[newIndex1], nums2[newIndex2]\n",
    "                if pivot1 <= pivot2:\n",
    "                    k -= newIndex1 - index1 + 1\n",
    "                    index1 = newIndex1 + 1\n",
    "                else:\n",
    "                    k -= newIndex2 - index2 + 1\n",
    "                    index2 = newIndex2 + 1\n",
    "\n",
    "        m, n = len(nums1), len(nums2)\n",
    "        totalLength = m + n\n",
    "        if totalLength % 2 == 1:\n",
    "            return getKthElement((totalLength + 1) // 2)\n",
    "        else:\n",
    "            return (getKthElement(totalLength // 2) + getKthElement(totalLength // 2 + 1)) / 2"
   ]
  },
  {
   "cell_type": "markdown",
   "metadata": {},
   "source": [
    "# 5:Longest Palindromic Substring"
   ]
  },
  {
   "cell_type": "code",
   "execution_count": null,
   "metadata": {},
   "outputs": [],
   "source": [
    "class Solution:\n",
    "    def longestPalindrome(self, s: str) -> str:\n",
    "        if len(s)<2:\n",
    "            return s\n",
    "        res = s[0]\n",
    "        res_len = 1\n",
    "        for i in range(len(s)):\n",
    "            l1,s1 = self.sup_func(s,i,i+1)\n",
    "            l2,s2 = self.sup_func(s,i-1,i+1)\n",
    "            if l1 > res_len:\n",
    "                res_len = l1\n",
    "                res = s1\n",
    "            if l2 > res_len:\n",
    "                res_len = l2\n",
    "                res = s2\n",
    "        return res\n",
    "\n",
    "    def sup_func(self,s,l,r):\n",
    "        beg = l\n",
    "        end = r\n",
    "        while beg>=0 and end < len(s) and s[beg] == s[end]:\n",
    "            beg -= 1\n",
    "            end += 1\n",
    "        return end - beg -1, s[beg+1:end]"
   ]
  },
  {
   "cell_type": "code",
   "execution_count": null,
   "metadata": {},
   "outputs": [],
   "source": [
    "class Solution:\n",
    "    def longestPalindrome(self, s: str) -> str:\n",
    "        if len(s) < 2:\n",
    "            return s\n",
    "        t = [[False for _ in range(len(s))] for _ in range(len(s))]\n",
    "        max_l = 0\n",
    "        res = s[0]\n",
    "        for i in range(len(s)):\n",
    "            t[i][i] = True\n",
    "\n",
    "        for j in range(1, len(s)):\n",
    "            for i in range(j):\n",
    "                if s[i] == s[j]:\n",
    "                    if j - i < 3:\n",
    "                        t[i][j] = True\n",
    "                    else:\n",
    "                        t[i][j] = t[i + 1][j - 1]\n",
    "\n",
    "                if t[i][j]:\n",
    "                    if max_l < j - i + 1:\n",
    "                        max_l = j - i + 1\n",
    "                        res = s[i:j+1]\n",
    "        return res"
   ]
  },
  {
   "cell_type": "markdown",
   "metadata": {},
   "source": [
    "# 6:ZigZag Conversion"
   ]
  },
  {
   "cell_type": "code",
   "execution_count": null,
   "metadata": {},
   "outputs": [],
   "source": [
    "class Solution:\n",
    "    def convert(self, s: str, numRows: int) -> str:\n",
    "        if numRows<=1:\n",
    "            return s\n",
    "        dir = -1\n",
    "        t = [[] for _ in range(numRows)]\n",
    "        acc = 0\n",
    "        for i in range(len(s)):\n",
    "            t[acc].append(s[i])\n",
    "            if acc == 0 or acc == numRows-1:\n",
    "                dir = -dir\n",
    "            acc = acc + dir\n",
    "        res = \"\"\n",
    "        for i in range(len(t)):\n",
    "            for j in t[i]:\n",
    "                res +=j\n",
    "        return res"
   ]
  },
  {
   "cell_type": "markdown",
   "metadata": {},
   "source": [
    "# 7:Reverse Integer"
   ]
  },
  {
   "cell_type": "code",
   "execution_count": null,
   "metadata": {},
   "outputs": [],
   "source": [
    "#https://blog.csdn.net/xtj332/article/details/6639009 python的位运算符\n",
    "class Solution:\n",
    "    def reverse(self, x: int) -> int:\n",
    "        res,y = 0,abs(x)\n",
    "        boundary = (1<<31)-1 if x>0 else 1<<31\n",
    "        while y != 0:\n",
    "            res = res*10 + y%10\n",
    "            if res > boundary:\n",
    "                return 0\n",
    "            y //= 10\n",
    "        return res if x>0 else -res\n",
    "        "
   ]
  },
  {
   "cell_type": "markdown",
   "metadata": {},
   "source": [
    "# 8:String to Integer (atoi)"
   ]
  },
  {
   "cell_type": "code",
   "execution_count": null,
   "metadata": {},
   "outputs": [],
   "source": [
    "class Solution:\n",
    "    def myAtoi(self, str: str) -> int:\n",
    "        boundary = 1<<31\n",
    "        res = 0\n",
    "        i = 0\n",
    "        flag = 1\n",
    "        if len(str) == 0:\n",
    "            return 0\n",
    "        while i < len(str) and str[i] == \" \":\n",
    "            i+=1\n",
    "            if i == len(str):\n",
    "                return 0\n",
    "        if str[i] == \"-\":\n",
    "            flag = -1\n",
    "        if str[i] == \"+\" or str[i] == \"-\":\n",
    "            i+=1\n",
    "        while i < len(str) and \"0\"<=str[i]<=\"9\":\n",
    "            res = res*10 + int(str[i])\n",
    "            i+=1\n",
    "        res = res*flag\n",
    "        if res > boundary-1:\n",
    "            return boundary-1\n",
    "        return -boundary if res<-boundary else res"
   ]
  },
  {
   "cell_type": "code",
   "execution_count": null,
   "metadata": {},
   "outputs": [],
   "source": [
    "class Solution:\n",
    "    def myAtoi(self, s: str) -> int:\n",
    "        return max(min(int(*re.findall('^[\\+\\-]?\\d+', s.lstrip())), 2**31 - 1), -2**31)"
   ]
  },
  {
   "cell_type": "markdown",
   "metadata": {},
   "source": [
    "# 9:Palindrome Number"
   ]
  },
  {
   "cell_type": "code",
   "execution_count": null,
   "metadata": {},
   "outputs": [],
   "source": [
    "class Solution:\n",
    "    def isPalindrome(self, x: int) -> bool:\n",
    "        if x<0:\n",
    "            return False\n",
    "        comp,y = 0,x\n",
    "        while y != 0:\n",
    "            comp = comp*10 + y%10\n",
    "            y//=10\n",
    "        return x == comp"
   ]
  },
  {
   "cell_type": "markdown",
   "metadata": {},
   "source": [
    "# 10:Regular Expression Matching"
   ]
  },
  {
   "cell_type": "code",
   "execution_count": null,
   "metadata": {},
   "outputs": [],
   "source": [
    "'''class Solution:\n",
    "    def isMatch(self, s: str, p: str) -> bool:\n",
    "        if not p:\n",
    "            return not s\n",
    "    \n",
    "        first_match = (len(s)>0) and p[0] in {s[0],\".\"}\n",
    "        \n",
    "        if len(p)>=2 and p[1] == \"*\":\n",
    "            return (self.isMatch(s[1:],p) and first_match) or (self.isMatch(s,p[2:]))\n",
    "\n",
    "        return first_match and self.isMatch(s[1:],p[1:])\n",
    "'''\n",
    "#上面的代码运行不了，但是下面的能运行，唯一的差别就是\n",
    "#return self.isMatch(s, p[2:]) or (first_match and self.isMatch(s[1:],p))\n",
    "#这个first_match要放在self.isMatch前面\n",
    "\n",
    "class Solution:\n",
    "    def isMatch(self, s: str, p: str) -> bool:\n",
    "        if not p:\n",
    "            return not s\n",
    "\n",
    "        first_match = (len(s) > 0) and p[0] in {s[0], \".\"}\n",
    "\n",
    "        if len(p) >= 2 and p[1] == \"*\":\n",
    "            return self.isMatch(s, p[2:]) or (first_match and self.isMatch(s[1:],p))\n",
    "\n",
    "        return first_match and self.isMatch(s[1:], p[1:])"
   ]
  },
  {
   "cell_type": "markdown",
   "metadata": {},
   "source": [
    "# 11:Container With Most Water"
   ]
  },
  {
   "cell_type": "code",
   "execution_count": null,
   "metadata": {},
   "outputs": [],
   "source": [
    "class Solution:\n",
    "    def maxArea(self, height: List[int]) -> int:\n",
    "        p1 = 0\n",
    "        p2 = len(height) - 1\n",
    "        maxi = 0\n",
    "        \n",
    "        while p1 < p2:\n",
    "            distance = p2 - p1\n",
    "            \n",
    "            h1 = height[p1]\n",
    "            h2 = height[p2]\n",
    "            \n",
    "            if h1 > h2:\n",
    "                p2 -= 1\n",
    "                area = h2 * distance\n",
    "            else:\n",
    "                p1 += 1\n",
    "                area = h1 * distance\n",
    "\n",
    "            if area > maxi:\n",
    "                maxi = area\n",
    "\n",
    "        return maxi\n",
    "                \n",
    "                "
   ]
  },
  {
   "cell_type": "markdown",
   "metadata": {},
   "source": [
    "# 12:Integer to Roman"
   ]
  },
  {
   "cell_type": "code",
   "execution_count": null,
   "metadata": {},
   "outputs": [],
   "source": [
    "class Solution:\n",
    "    def intToRoman(self, num: int) -> str:\n",
    "        res = \"\"\n",
    "        i1 = num//1000\n",
    "        i2 = (num%1000)//100\n",
    "        i3 = (num%100)//10\n",
    "        i4 = (num%10)\n",
    "        res = res + \"M\"*i1\n",
    "        if i2 <= 3 :\n",
    "            res = res + \"C\" * i2\n",
    "        elif i2 == 4:\n",
    "            res = res + \"CD\"\n",
    "        elif 4<i2<=8:\n",
    "            res = res + \"D\" + \"C\" * (i2 % 5)\n",
    "        elif i2 == 9:\n",
    "            res = res + \"CM\"\n",
    "\n",
    "        if i3 <= 3:\n",
    "            res = res + \"X\" * i3\n",
    "        elif i3 == 4:\n",
    "            res = res + \"XL\"\n",
    "        elif 4 < i3 <= 8:\n",
    "            res = res + \"L\" + \"X\" * (i3 % 5)\n",
    "        elif i3 == 9:\n",
    "            res = res + \"XC\"\n",
    "\n",
    "        if i4 <= 3:\n",
    "            res = res + \"I\" * i4\n",
    "        elif i4 == 4:\n",
    "            res = res + \"IV\"\n",
    "        elif 4 < i4 <= 8:\n",
    "            res = res + \"V\" + \"I\" * (i4 % 5)\n",
    "        elif i4 == 9:\n",
    "            res = res + \"IX\"\n",
    "\n",
    "        return res\n",
    "#其实用字典会简洁一点"
   ]
  },
  {
   "cell_type": "markdown",
   "metadata": {},
   "source": [
    "# 13:Roman to Integer"
   ]
  },
  {
   "cell_type": "code",
   "execution_count": null,
   "metadata": {},
   "outputs": [],
   "source": [
    "class Solution:\n",
    "    def romanToInt(self, s):\n",
    "        res = 0\n",
    "        d = {'I':1, 'IV':3, 'V':5, 'IX':8, 'X':10, 'XL':30, 'L':50,'XC':80,'C':100,'CD':300,         'D':500, 'CM':800, 'M':1000}\n",
    "        for i in range(len(s)-1):\n",
    "            if d[s[i]] < d[s[i+1]]:\n",
    "                res -= d[s[i]]\n",
    "            else:\n",
    "                res += d[s[i]]\n",
    "        return res+d[s[-1]]"
   ]
  },
  {
   "cell_type": "markdown",
   "metadata": {},
   "source": [
    "# 14:Longest Common Prefix"
   ]
  },
  {
   "cell_type": "code",
   "execution_count": null,
   "metadata": {},
   "outputs": [],
   "source": [
    "class Solution:\n",
    "    def longestCommonPrefix(self, strs: List[str]) -> str:\n",
    "        if not strs:\n",
    "            return ''\n",
    "        \n",
    "        s1 = min(strs)\n",
    "        s2 = max(strs)\n",
    "        \n",
    "        for i, c in enumerate(s1):\n",
    "            if s2[i] != c:\n",
    "                return s1[:i]\n",
    "        \n",
    "        return s1"
   ]
  },
  {
   "cell_type": "code",
   "execution_count": null,
   "metadata": {},
   "outputs": [],
   "source": [
    "class Solution:\n",
    "    def longestCommonPrefix(self, strs: List[str]) -> str:\n",
    "        if not strs:\n",
    "            return \"\"\n",
    "        temp = strs[0]\n",
    "        for i in range(1,len(strs)):\n",
    "            j = 0\n",
    "            while j<min(len(temp),len(strs[i])) and temp[j] == strs[i][j]:\n",
    "                j+=1\n",
    "            if j == 0:\n",
    "                return \"\"\n",
    "            temp = temp[0:j]\n",
    "        return temp"
   ]
  },
  {
   "cell_type": "code",
   "execution_count": 10,
   "metadata": {},
   "outputs": [
    {
     "name": "stdout",
     "output_type": "stream",
     "text": [
      "WE\n",
      "WFD\n",
      "ASQ\n",
      "SWT\n",
      "SST\n",
      "RL\n",
      "FIBRW\n",
      "DI\n",
      "RO\n",
      "FIBR\n",
      "RA\n",
      "RS\n",
      "FIBL\n"
     ]
    }
   ],
   "source": [
    "pte = [\n",
    "('RA',44),\n",
    "('RS',40),\n",
    "('DI',63),\n",
    "('RL',84),\n",
    "('ASQ',97),\n",
    "('SWT',95),\n",
    "('WE',99),\n",
    "('FIBR',54),\n",
    "('FIBRW',65),\n",
    "('RO',55),\n",
    "('SST',91),\n",
    "('FIBL',32),\n",
    "('WFD',99)\n",
    "]\n",
    "order = sorted(pte,key=lambda part:part[1],reverse = True)\n",
    "for i in order:\n",
    "    print(i[0])"
   ]
  },
  {
   "cell_type": "code",
   "execution_count": 25,
   "metadata": {},
   "outputs": [
    {
     "name": "stdout",
     "output_type": "stream",
     "text": [
      "p:160.8\n",
      "f:49\n",
      "c：57\n",
      "kcl:1396\n"
     ]
    }
   ],
   "source": [
    "#\n",
    "p = 200\n",
    "f = 55\n",
    "c = 175\n",
    "kcl = 2000\n",
    "print(\"p:\" + str(p))\n",
    "print(\"f:\"+ str(f))\n",
    "print(\"c：\" + str(c))\n",
    "print(\"kcl:\"+ str(kcl))"
   ]
  },
  {
   "cell_type": "code",
   "execution_count": 16,
   "metadata": {},
   "outputs": [
    {
     "name": "stdout",
     "output_type": "stream",
     "text": [
      "p:22.620000000000015\n",
      "f:31.639999999999993\n",
      "c：8.209999999999994\n",
      "kcl:487.10000000000014\n"
     ]
    }
   ],
   "source": [
    "\n",
    "p = 250\n",
    "f = 77\n",
    "c = 75\n",
    "kcl = 2300\n",
    "print(\"p:\" + str(p))\n",
    "print(\"f:\"+ str(f))\n",
    "print(\"c：\" + str(c))\n",
    "print(\"kcl:\"+ str(kcl))"
   ]
  },
  {
   "cell_type": "code",
   "execution_count": 12,
   "metadata": {},
   "outputs": [
    {
     "name": "stdout",
     "output_type": "stream",
     "text": [
      "p:19.370000000000005\n",
      "f:-20.380000000000003\n",
      "c：81.16999999999999\n",
      "kcl:50.09999999999991\n"
     ]
    }
   ],
   "source": [
    "#250 鸡胸 120tomato\n",
    "p = 250\n",
    "f = 55\n",
    "c = 125\n",
    "kcl = 2000\n",
    "print(\"p:\" + str(p))\n",
    "print(\"f:\"+ str(f))\n",
    "print(\"c：\" + str(c))\n",
    "print(\"kcl:\"+ str(kcl))"
   ]
  },
  {
   "cell_type": "markdown",
   "metadata": {},
   "source": [
    "# 15: 3Sum"
   ]
  },
  {
   "cell_type": "code",
   "execution_count": 35,
   "metadata": {},
   "outputs": [],
   "source": [
    "class Solution:\n",
    "    def threeSum(self, nums: List[int]) -> List[List[int]]:\n",
    "        n=len(nums)\n",
    "        res=[]\n",
    "        if(not nums or n<3):\n",
    "            return []\n",
    "        nums.sort()\n",
    "        res=[]\n",
    "        for i in range(n):\n",
    "            if(nums[i]>0):\n",
    "                return res\n",
    "            if(i>0 and nums[i]==nums[i-1]):\n",
    "                continue\n",
    "            L=i+1\n",
    "            R=n-1\n",
    "            while(L<R):\n",
    "                if(nums[i]+nums[L]+nums[R]==0):\n",
    "                    res.append([nums[i],nums[L],nums[R]])\n",
    "                    while(L<R and nums[L]==nums[L+1]):\n",
    "                        L=L+1\n",
    "                    while(L<R and nums[R]==nums[R-1]):\n",
    "                        R=R-1\n",
    "                    L=L+1\n",
    "                    R=R-1\n",
    "                elif(nums[i]+nums[L]+nums[R]>0):\n",
    "                    R=R-1\n",
    "                else:\n",
    "                    L=L+1\n",
    "        return res"
   ]
  },
  {
   "cell_type": "code",
   "execution_count": 40,
   "metadata": {},
   "outputs": [
    {
     "data": {
      "text/plain": [
       "[[-2, 0, 2], [-2, 1, 1]]"
      ]
     },
     "execution_count": 40,
     "metadata": {},
     "output_type": "execute_result"
    }
   ],
   "source": [
    "s = Solution()\n",
    "#s.threeSum([-1,0,1,2,-1,-4])\n",
    "s.threeSum([-2,0,1,1,2])"
   ]
  },
  {
   "cell_type": "code",
   "execution_count": 66,
   "metadata": {},
   "outputs": [],
   "source": [
    "class Solution:\n",
    "    def threeSum(self, nums):\n",
    "        if (not nums or len(nums)<3):\n",
    "            return []\n",
    "        nums.sort()\n",
    "        res = []\n",
    "        for k in range(len(nums)-2):\n",
    "            if nums[k] >0:\n",
    "                return res\n",
    "            if k>0 and nums[k] == nums[k-1]:\n",
    "                continue\n",
    "            i = k+1\n",
    "            j = len(nums)-1\n",
    "            while i < j:\n",
    "                if (nums[i] + nums[j] + nums[k]) == 0:\n",
    "                    res.append([nums[k],nums[i],nums[j]])\n",
    "                    while(i<j and nums[i]==nums[i+1]):\n",
    "                        i=i+1\n",
    "                    while(i<j and nums[j]==nums[j-1]):\n",
    "                        j=j-1\n",
    "                    #if [nums[k],nums[i],nums[j]] not in res:\n",
    "                    #    res.append([nums[k],nums[i],nums[j]])\n",
    "                    i+=1\n",
    "                    j-=1\n",
    "                elif (nums[i]+nums[j]+nums[k]) > 0:\n",
    "                    j-=1\n",
    "                else:\n",
    "                    i+=1\n",
    "        return res\n"
   ]
  },
  {
   "cell_type": "code",
   "execution_count": 67,
   "metadata": {},
   "outputs": [
    {
     "data": {
      "text/plain": [
       "[[-2, 0, 2], [-2, 1, 1]]"
      ]
     },
     "execution_count": 67,
     "metadata": {},
     "output_type": "execute_result"
    }
   ],
   "source": [
    "s = Solution()\n",
    "#s.threeSum([-1,0,1,2,-1,-4])\n",
    "s.threeSum([-2,0,1,1,2])"
   ]
  },
  {
   "cell_type": "markdown",
   "metadata": {},
   "source": [
    "# 16: 3Sum Closest    "
   ]
  },
  {
   "cell_type": "code",
   "execution_count": 76,
   "metadata": {},
   "outputs": [],
   "source": [
    "class Solution:\n",
    "    def threeSumClosest(self, nums, target):\n",
    "        if (not nums or len(nums)<3):\n",
    "            return []\n",
    "        nums.sort()\n",
    "        res = nums[0] + nums[1] + nums[2]\n",
    "        for k in range(len(nums)-2):\n",
    "            if k>0 and nums[k] == nums[k-1]:\n",
    "                continue\n",
    "            i = k+1\n",
    "            j = len(nums)-1\n",
    "            while i < j:\n",
    "                temp = nums[i] + nums[j] + nums[k]\n",
    "                res = res if abs(target-res) < abs(target-temp) else temp\n",
    "                if temp == target:\n",
    "                    return target\n",
    "                elif temp > target:\n",
    "                    j-=1\n",
    "                else:\n",
    "                    i+=1\n",
    "        return res"
   ]
  },
  {
   "cell_type": "code",
   "execution_count": 77,
   "metadata": {},
   "outputs": [
    {
     "data": {
      "text/plain": [
       "3"
      ]
     },
     "execution_count": 77,
     "metadata": {},
     "output_type": "execute_result"
    }
   ],
   "source": [
    "s = Solution()\n",
    "#s.threeSum([-1,0,1,2,-1,-4])\n",
    "s.threeSumClosest([1,1,1,0],100)"
   ]
  },
  {
   "cell_type": "markdown",
   "metadata": {},
   "source": [
    "# 17: Letter Combinations of a Phone Number    "
   ]
  },
  {
   "cell_type": "code",
   "execution_count": 93,
   "metadata": {},
   "outputs": [],
   "source": [
    "class Solution:\n",
    "    def letterCombinations(self, digits):\n",
    "        if not digits:\n",
    "            return list()\n",
    "        \n",
    "        dic = {'2': ['a', 'b', 'c'],\n",
    "               '3': ['d', 'e', 'f'],\n",
    "               '4': ['g', 'h', 'i'],\n",
    "               '5': ['j', 'k', 'l'],\n",
    "               '6': ['m', 'n', 'o'],\n",
    "               '7': ['p', 'q', 'r', 's'],\n",
    "               '8': ['t', 'u', 'v'],\n",
    "               '9': ['w', 'x', 'y', 'z']}\n",
    "        res = ['']\n",
    "        for i in digits:\n",
    "            res = [pre+sub for pre in res for sub in dic[i]]\n",
    "        return res\n",
    "        \n",
    "        "
   ]
  },
  {
   "cell_type": "code",
   "execution_count": 94,
   "metadata": {},
   "outputs": [
    {
     "data": {
      "text/plain": [
       "['ad', 'ae', 'af', 'bd', 'be', 'bf', 'cd', 'ce', 'cf']"
      ]
     },
     "execution_count": 94,
     "metadata": {},
     "output_type": "execute_result"
    }
   ],
   "source": [
    "s = Solution()\n",
    "s.letterCombinations(\"23\")"
   ]
  },
  {
   "cell_type": "code",
   "execution_count": 92,
   "metadata": {},
   "outputs": [
    {
     "data": {
      "text/plain": [
       "['1ad', '1ae', '1af', '1bd', '1be', '1bf', '1cd', '1ce', '1cf']"
      ]
     },
     "execution_count": 92,
     "metadata": {},
     "output_type": "execute_result"
    }
   ],
   "source": [
    "dic = {'2': ['a', 'b', 'c'],\n",
    "               '3': ['d', 'e', 'f'],\n",
    "               '4': ['g', 'h', 'i'],\n",
    "               '5': ['j', 'k', 'l'],\n",
    "               '6': ['m', 'n', 'o'],\n",
    "               '7': ['p', 'q', 'r', 's'],\n",
    "               '8': ['t', 'u', 'v'],\n",
    "               '9': ['w', 'x', 'y', 'z']}\n",
    "res = ['1']\n",
    "for i in '23':\n",
    "    res = [pre+sub for pre in res for sub in dic[i]]\n",
    "res"
   ]
  },
  {
   "cell_type": "markdown",
   "metadata": {},
   "source": [
    "# 18: 4Sum    "
   ]
  },
  {
   "cell_type": "markdown",
   "metadata": {},
   "source": [
    "## Version 1: slow and based on 3Sum"
   ]
  },
  {
   "cell_type": "code",
   "execution_count": 112,
   "metadata": {},
   "outputs": [],
   "source": [
    "class Solution:\n",
    "    def fourSum(self, nums, target: int):\n",
    "        nums.sort()\n",
    "        res = list()\n",
    "        n = len(nums)\n",
    "        for i in range(n):\n",
    "            #temp = self.threeSum(nums[:i]+nums[i+1:],target-nums[i])\n",
    "            temp = self.threeSum(nums[i+1:],target-nums[i])\n",
    "            for j in temp:\n",
    "                j.append(nums[i])\n",
    "                res.append(j)\n",
    "        temp = []\n",
    "        for i in res:\n",
    "            if i not in temp:\n",
    "                temp.append(i)\n",
    "        return temp\n",
    "\n",
    "    def threeSum(self, nums,target):\n",
    "        if (not nums or len(nums)<3):\n",
    "            return []\n",
    "        res = []\n",
    "        for k in range(len(nums)-2):\n",
    "            if k > 0 and nums[k] == nums[k-1]:\n",
    "                continue\n",
    "            i = k+1\n",
    "            j = len(nums)-1\n",
    "            while i < j:\n",
    "                if (nums[i] + nums[j] + nums[k]) == target:\n",
    "                    res.append([nums[k],nums[i],nums[j]])\n",
    "                    while(i<j and nums[i]==nums[i+1]):\n",
    "                        i=i+1\n",
    "                    while(i<j and nums[j]==nums[j-1]):\n",
    "                        j=j-1\n",
    "                    i+=1\n",
    "                    j-=1\n",
    "                elif (nums[i]+nums[j]+nums[k]) > target:\n",
    "                    j-=1\n",
    "                else:\n",
    "                    i+=1\n",
    "        return res"
   ]
  },
  {
   "cell_type": "code",
   "execution_count": 114,
   "metadata": {},
   "outputs": [
    {
     "data": {
      "text/plain": [
       "[[-5, -1, 4, -5], [-3, -1, 2, -5]]"
      ]
     },
     "execution_count": 114,
     "metadata": {},
     "output_type": "execute_result"
    }
   ],
   "source": [
    "s = Solution()\n",
    "s.fourSum([-1,-5,-5,-3,2,5,0,4],-7)"
   ]
  },
  {
   "cell_type": "markdown",
   "metadata": {},
   "source": [
    "## Version 2: fastest version (copied other's version)"
   ]
  },
  {
   "cell_type": "code",
   "execution_count": 118,
   "metadata": {},
   "outputs": [],
   "source": [
    "class Solution:\n",
    "    def fourSum(self, nums, target: int):\n",
    "        if not nums:\n",
    "            return []\n",
    "        path, res = [], []\n",
    "        nums = sorted(nums)\n",
    "        self.nSum(nums, target, 4, path, res)\n",
    "        return res\n",
    "\n",
    "    def nSum(self, nums, target, n, path, res):\n",
    "\n",
    "        if n<2 or len(nums) < n or target < n*nums[0] or target > n*nums[-1]:\n",
    "            return\n",
    "        \n",
    "        if n == 2:\n",
    "            left, right = 0, len(nums)-1\n",
    "            while left < right:\n",
    "                temp = nums[left] + nums[right]\n",
    "                if temp == target:\n",
    "                    res.append(path + [nums[left], nums[right]])\n",
    "                    left += 1\n",
    "                    while left < right and nums[left] == nums[left-1]:\n",
    "                        left += 1\n",
    "                elif temp > target:\n",
    "                    right -= 1\n",
    "                else:\n",
    "                    left += 1\n",
    "        else:\n",
    "            for i in range(len(nums) - n + 1):\n",
    "                if i > 0 and nums[i] == nums[i-1]:\n",
    "                    continue\n",
    "                self.nSum(nums[i+1:], target-nums[i], n-1, path+[nums[i]], res)"
   ]
  },
  {
   "cell_type": "code",
   "execution_count": 119,
   "metadata": {},
   "outputs": [
    {
     "data": {
      "text/plain": [
       "[[-5, -5, -1, 4], [-5, -3, -1, 2]]"
      ]
     },
     "execution_count": 119,
     "metadata": {},
     "output_type": "execute_result"
    }
   ],
   "source": [
    "s = Solution()\n",
    "s.fourSum([-1,-5,-5,-3,2,5,0,4],-7)"
   ]
  },
  {
   "cell_type": "markdown",
   "metadata": {},
   "source": [
    "## Version 3:  Based on the version 2, I changed a little bit. This algorithems can solves nSum problem."
   ]
  },
  {
   "cell_type": "code",
   "execution_count": null,
   "metadata": {},
   "outputs": [],
   "source": [
    "class Solution:\n",
    "    def fourSum(self, nums: List[int], target: int) -> List[List[int]]:\n",
    "        nums.sort()\n",
    "        self.len = len(nums)\n",
    "        return self.nSum(nums,target,4,0)\n",
    "    \n",
    "    def nSum(self, nums,target,n,index):\n",
    "        lst = []\n",
    "        if n < 2 or len(nums) < n or target < n*nums[0] or target > n*nums[-1]:\n",
    "            return\n",
    "        \n",
    "        if n==2:\n",
    "            l, r = index, self.len-1\n",
    "            while l<r:\n",
    "                if nums[l]+nums[r]==target:\n",
    "                    lst.append([nums[l],nums[r]])\n",
    "                    while l<r and nums[l]==nums[l+1]: l+=1\n",
    "                    while l<r and nums[r]==nums[r-1]: r-=1\n",
    "                    l += 1\n",
    "                    r -= 1\n",
    "                elif nums[l]+nums[r]>target:\n",
    "                    r -= 1\n",
    "                else :\n",
    "                    l += 1\n",
    "        else:\n",
    "            for i in range(index, self.len-n+1):\n",
    "                if index < i < self.len-1 and nums[i]==nums[i-1]: continue\n",
    "                tmp = self.nSum(nums,target-nums[i],n-1,i+1)\n",
    "                if tmp:\n",
    "                    for l in tmp:\n",
    "                        l.insert(0,nums[i])\n",
    "                        lst.append(l)\n",
    "        return lst"
   ]
  },
  {
   "cell_type": "markdown",
   "metadata": {},
   "source": [
    "# 19. Remove Nth Node From End of List"
   ]
  },
  {
   "cell_type": "markdown",
   "metadata": {},
   "source": [
    "## 方法一：循环迭代 -- 找到 length -n 个节点"
   ]
  },
  {
   "cell_type": "code",
   "execution_count": null,
   "metadata": {},
   "outputs": [],
   "source": [
    "class Solution:\n",
    "    def removeNthFromEnd(self, head: ListNode, n: int) -> ListNode:\n",
    "        dummy = ListNode(0)\n",
    "        dummy.next = head \n",
    "\n",
    "        #step1: 获取链表长度\n",
    "        cur, length = head, 0 \n",
    "        while cur:\n",
    "            length += 1\n",
    "            cur = cur.next \n",
    "        \n",
    "        #step2: 找到倒数第N个节点的前面一个节点\n",
    "        cur = dummy\n",
    "        for _ in range(length - n):\n",
    "            cur = cur.next\n",
    "        \n",
    "        #step3: 删除节点，并重新连接\n",
    "        cur.next = cur.next.next\n",
    "        return dummy.next "
   ]
  },
  {
   "cell_type": "markdown",
   "metadata": {},
   "source": [
    "## 方法二：快慢指针 -- 找倒数第N个节点的前一个节点"
   ]
  },
  {
   "cell_type": "code",
   "execution_count": null,
   "metadata": {},
   "outputs": [],
   "source": [
    "class Solution:\n",
    "    def removeNthFromEnd(self, head: ListNode, n: int) -> ListNode:\n",
    "        dummy = ListNode(0)\n",
    "        dummy.next = head \n",
    "        \n",
    "        #step1: 快指针先走n步\n",
    "        slow, fast = dummy, dummy\n",
    "        for _ in range(n):\n",
    "            fast = fast.next \n",
    "\n",
    "        #step2: 快慢指针同时走，直到fast指针到达尾部节点，此时slow到达倒数第N个节点的前一个节点\n",
    "        while fast and fast.next:\n",
    "            slow, fast = slow.next, fast.next \n",
    "        \n",
    "        #step3: 删除节点，并重新连接\n",
    "        slow.next = slow.next.next \n",
    "        return dummy.next "
   ]
  },
  {
   "cell_type": "markdown",
   "metadata": {},
   "source": [
    "## 方法三：递归迭代 -- 回溯时，进行节点计数"
   ]
  },
  {
   "cell_type": "code",
   "execution_count": null,
   "metadata": {},
   "outputs": [],
   "source": [
    "class Solution:  \n",
    "    def removeNthFromEnd(self, head: ListNode, n: int) -> ListNode:\n",
    "        if not head: \n",
    "            self.count = 0\n",
    "            return head  \n",
    "        head.next = self.removeNthFromEnd(head.next, n) # 递归调用\n",
    "        self.count += 1 # 回溯时进行节点计数\n",
    "        return head.next if self.count == n else head "
   ]
  },
  {
   "cell_type": "markdown",
   "metadata": {},
   "source": [
    "# 20. Valid Parentheses"
   ]
  },
  {
   "cell_type": "markdown",
   "metadata": {},
   "source": [
    "## 初始解题思路和代码\n",
    "### 对于这种括号题 想想用栈来解决"
   ]
  },
  {
   "cell_type": "code",
   "execution_count": null,
   "metadata": {},
   "outputs": [],
   "source": [
    "class Solution:\n",
    "    def isValid(self, s: str) -> bool:\n",
    "        if len(s)<2:\n",
    "            return False\n",
    "        op = [\"(\",\"[\",\"{\"]\n",
    "        lst = []\n",
    "        for i in s:\n",
    "            if i in op:\n",
    "                lst.append(i)\n",
    "            elif i == \")\":\n",
    "                if len(lst) == 0 or lst[-1] != \"(\":\n",
    "                    return False\n",
    "                else:\n",
    "                    lst.pop()\n",
    "            elif i == \"]\":\n",
    "                if len(lst) == 0 or lst[-1] != \"[\":\n",
    "                    return False\n",
    "                else:\n",
    "                    lst.pop()\n",
    "            elif i == \"}\":\n",
    "                if len(lst) == 0 or lst[-1] != \"{\":\n",
    "                    return False\n",
    "                else:\n",
    "                    lst.pop()\n",
    "        return True if len(lst) == 0 else False"
   ]
  },
  {
   "cell_type": "markdown",
   "metadata": {},
   "source": [
    "## 优化后代码"
   ]
  },
  {
   "cell_type": "code",
   "execution_count": null,
   "metadata": {},
   "outputs": [],
   "source": [
    "class Solution:\n",
    "    def isValid(self, s: str) -> bool:\n",
    "        stack = []\n",
    "        mapping = {')': '(', '}': '{', ']': '['}\n",
    "        for each in s:\n",
    "            if each in ['(', '{', '[']:\n",
    "                stack.append(each)\n",
    "            else:\n",
    "                if not stack or mapping[each] != stack[-1]:\n",
    "                    return False\n",
    "                stack.pop()\n",
    "\n",
    "        return not stack"
   ]
  },
  {
   "cell_type": "code",
   "execution_count": null,
   "metadata": {},
   "outputs": [],
   "source": []
  },
  {
   "cell_type": "code",
   "execution_count": null,
   "metadata": {},
   "outputs": [],
   "source": []
  }
 ],
 "metadata": {
  "kernelspec": {
   "display_name": "Python 3",
   "language": "python",
   "name": "python3"
  },
  "language_info": {
   "codemirror_mode": {
    "name": "ipython",
    "version": 3
   },
   "file_extension": ".py",
   "mimetype": "text/x-python",
   "name": "python",
   "nbconvert_exporter": "python",
   "pygments_lexer": "ipython3",
   "version": "3.8.3"
  }
 },
 "nbformat": 4,
 "nbformat_minor": 4
}
