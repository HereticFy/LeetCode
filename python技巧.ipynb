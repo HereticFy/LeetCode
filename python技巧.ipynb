{
 "cells": [
  {
   "cell_type": "markdown",
   "metadata": {},
   "source": [
    "# zip函数\n",
    "\n",
    "zip() 函数用于将可迭代的对象作为参数，将对象中对应的元素打包成一个个元组，然后返回由这些元组组成的列表。\n",
    "\n",
    "如果各个迭代器的元素个数不一致，则返回列表长度与最短的对象相同，利用 * 号操作符，可以将元组解压为列表。\n",
    "\n",
    "zip 方法在 Python 2 和 Python 3 中的不同：在 Python 3.x 中为了减少内存，zip() 返回的是一个对象。如需展示列表，需手动 list() 转换。"
   ]
  },
  {
   "cell_type": "code",
   "execution_count": 9,
   "metadata": {},
   "outputs": [
    {
     "name": "stdout",
     "output_type": "stream",
     "text": [
      "[(1, 4), (2, 5), (3, 6)]\n",
      "[(1, 2, 3), (4, 5, 6)]\n"
     ]
    }
   ],
   "source": [
    "a = [1,2,3]\n",
    "b = [4,5,6]\n",
    "print(list(zip(a,b)))\n",
    "\n",
    "\n",
    "toto = zip(a,b)\n",
    "print(list(zip(*toto))) #与 zip 相反，*toto 可理解为解压，返回二维矩阵式"
   ]
  },
  {
   "cell_type": "markdown",
   "metadata": {},
   "source": [
    "# Python语言中的按位运算\n",
    "\n",
    " 位操作是程序设计中对位模式或二进制数的一元和二元操作. 在许多古老的微处理器上, 位运算比加减运算略快, 通常位运算比乘除法运算要快很多. 在现代架构中, 情况并非如此:位运算的运算速度通常与加法运算相同(仍然快于乘法运算).\n",
    "\n",
    "   简单来说，按位运算就把数字转换为机器语言——二进制的数字来运算的一种运算形式。在计算机系统中，数值一律用补码来表示(存储)。\n",
    "\n",
    "      Python中的按位运算符有：左移运算符（<<），右移运算符（>>）,按位与（&），按位或（|），按位翻转（～）。这些运算符中只有按位翻转运算符是单目运算符，其他的都是双目运算符。"
   ]
  },
  {
   "cell_type": "markdown",
   "metadata": {},
   "source": [
    "# format函数"
   ]
  },
  {
   "cell_type": "markdown",
   "metadata": {},
   "source": [
    "## 前序：format是python2.6新增的一个格式化字符串的方法，相对于老版的%格式方法，它有很多优点。\n",
    "\n",
    "## 不需要理会数据类型的问题，在%方法中%s只能替代字符串类型\n",
    "## 单个参数可以多次输出，参数顺序可以不相同\n",
    "## 填充方式十分灵活，对齐方式十分强大\n",
    "## 官方推荐用的方式，%方式将会在后面的版本被淘汰"
   ]
  },
  {
   "cell_type": "code",
   "execution_count": 1,
   "metadata": {},
   "outputs": [
    {
     "data": {
      "text/plain": [
       "'hello world'"
      ]
     },
     "execution_count": 1,
     "metadata": {},
     "output_type": "execute_result"
    }
   ],
   "source": [
    "\"{} {}\".format(\"hello\", \"world\")    # 不设置指定位置，按默认顺序"
   ]
  },
  {
   "cell_type": "code",
   "execution_count": 2,
   "metadata": {},
   "outputs": [
    {
     "data": {
      "text/plain": [
       "'hello world'"
      ]
     },
     "execution_count": 2,
     "metadata": {},
     "output_type": "execute_result"
    }
   ],
   "source": [
    "\"{0} {1}\".format(\"hello\", \"world\")  # 设置指定位置"
   ]
  },
  {
   "cell_type": "code",
   "execution_count": 3,
   "metadata": {},
   "outputs": [
    {
     "data": {
      "text/plain": [
       "'world hello world'"
      ]
     },
     "execution_count": 3,
     "metadata": {},
     "output_type": "execute_result"
    }
   ],
   "source": [
    "\"{1} {0} {1}\".format(\"hello\", \"world\")  # 设置指定位置"
   ]
  },
  {
   "cell_type": "markdown",
   "metadata": {},
   "source": [
    "# join函数"
   ]
  },
  {
   "cell_type": "markdown",
   "metadata": {},
   "source": [
    "## Python中有join()和os.path.join()两个函数，具体作用如下：\n",
    "##    join()：    连接字符串数组。将字符串、元组、列表中的元素以指定的字符(分隔符)连接生成一个新的字符串\n",
    "##    os.path.join()：  将多个路径组合后返回\n",
    "\n",
    "## 一、函数说明\n",
    "## 1、join()函数\n",
    "\n",
    "## 语法：  'sep'.join(seq)\n",
    "## 参数说明\n",
    "## sep：分隔符。可以为空\n",
    "## seq：要连接的元素序列、字符串、元组、字典\n",
    "## 上面的语法即：以sep作为分隔符，将seq所有的元素合并成一个新的字符串\n",
    "\n",
    "## 返回值：返回一个以分隔符sep连接各个元素后生成的字符串\n",
    "\n",
    "## 2、os.path.join()函数\n",
    "## 语法：  os.path.join(path1[,path2[,......]])\n",
    "## 返回值：将多个路径组合后返回\n",
    "\n",
    "## 注：第一个绝对路径之前的参数将被忽略\n"
   ]
  },
  {
   "cell_type": "code",
   "execution_count": 7,
   "metadata": {},
   "outputs": [
    {
     "name": "stdout",
     "output_type": "stream",
     "text": [
      "hello good boy doiido\n",
      "hello:good:boy:doiido\n"
     ]
    }
   ],
   "source": [
    "seq1 = ['hello','good','boy','doiido']\n",
    "print(\" \".join(seq1))\n",
    "print(':'.join(seq1))"
   ]
  },
  {
   "cell_type": "code",
   "execution_count": null,
   "metadata": {},
   "outputs": [],
   "source": []
  },
  {
   "cell_type": "code",
   "execution_count": null,
   "metadata": {},
   "outputs": [],
   "source": []
  },
  {
   "cell_type": "code",
   "execution_count": null,
   "metadata": {},
   "outputs": [],
   "source": []
  },
  {
   "cell_type": "code",
   "execution_count": null,
   "metadata": {},
   "outputs": [],
   "source": []
  },
  {
   "cell_type": "code",
   "execution_count": null,
   "metadata": {},
   "outputs": [],
   "source": []
  }
 ],
 "metadata": {
  "kernelspec": {
   "display_name": "Python 3",
   "language": "python",
   "name": "python3"
  },
  "language_info": {
   "codemirror_mode": {
    "name": "ipython",
    "version": 3
   },
   "file_extension": ".py",
   "mimetype": "text/x-python",
   "name": "python",
   "nbconvert_exporter": "python",
   "pygments_lexer": "ipython3",
   "version": "3.8.3"
  }
 },
 "nbformat": 4,
 "nbformat_minor": 4
}
