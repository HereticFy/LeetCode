{
 "cells": [
  {
   "cell_type": "markdown",
   "metadata": {},
   "source": [
    "# top-K问题\n",
    "\n",
    "## 什么是 Top K 问题？简单来说就是在一堆数据里面找到前 K 大（当然也可以是前 K 小）的数。\n"
   ]
  },
  {
   "cell_type": "markdown",
   "metadata": {},
   "source": [
    "### 堆排解法\n",
    "### 用堆排来解决Top K的思路很直接。\n",
    "\n",
    "### 前面已经说过，堆排利用的大（小）顶堆所有子节点元素都比父节点小（大）的性质来实现的，这里故技重施：既然一个大顶堆的顶是最大的元素，那我们要找最小的K个元素，是不是可以先建立一个包含K个元素的堆，然后遍历集合，如果集合的元素比堆顶元素小（说明它目前应该在K个最小之列），那就用该元素来替换堆顶元素，同时维护该堆的性质，那在遍历结束的时候，堆中包含的K个元素是不是就是我们要找的最小的K个元素？\n",
    "\n",
    "\n",
    "### 速记口诀：最小的K个用最大堆，最大的K个用最小堆。\n",
    "\n",
    "### 时间复杂度\n",
    "### n*logK\n",
    "\n",
    "### 速记：堆排的时间复杂度是n*logn，这里相当于只对前Top K个元素建堆排序，想法不一定对，但一定有助于记忆。\n",
    "\n",
    "### 适用场景\n",
    "### 实现的过程中，我们先用前K个数建立了一个堆，然后遍历数组来维护这个堆。这种做法带来了三个好处：（1）不会改变数据的输入顺序（按顺序读的）；（2）不会占用太多的内存空间（事实上，一次只读入一个数，内存只要求能容纳前K个数即可）；（3）由于（2），决定了它特别适合处理海量数据。\n",
    "\n",
    "### 这三点，也决定了它最优的适用场景。"
   ]
  },
  {
   "cell_type": "code",
   "execution_count": 4,
   "metadata": {},
   "outputs": [],
   "source": [
    "class Solution:\n",
    "    def getLeastNumbers(self, arr, k):\n",
    "        if k == 0:\n",
    "            return []\n",
    "        heaplist = HeapList()\n",
    "        heaplist.buildHeap(arr[:k])\n",
    "        for i in arr[k:]:\n",
    "            if i < heaplist.heaplist[1]:\n",
    "                heaplist.delMax()\n",
    "                heaplist.insert(i)\n",
    "        return heaplist.heaplist[1:]\n",
    "\n",
    "class HeapList():\n",
    "    \"\"\"\n",
    "    大顶堆\n",
    "    \"\"\"\n",
    "    def __init__(self):\n",
    "        self.heaplist = [0]\n",
    "        self.size = 0\n",
    "\n",
    "    def buildHeap(self, alist):\n",
    "         i = len(alist) // 2\n",
    "         self.size = len(alist)\n",
    "         self.heaplist += alist[:]\n",
    "         while i > 0:\n",
    "             self.percDown(i)\n",
    "             i -= 1\n",
    "\n",
    "    def delMax(self):\n",
    "        \"\"\"删除堆顶最大元素\"\"\"\n",
    "        retval = self.heaplist[1]\n",
    "        self.heaplist[1] = self.heaplist[self.size]\n",
    "        self.size -= 1\n",
    "        self.heaplist.pop()\n",
    "        self.percDown(1)\n",
    "        return retval\n",
    "\n",
    "    def insert(self, k):\n",
    "        self.heaplist.append(k)\n",
    "        self.size += 1\n",
    "        self.percUP(self.size)\n",
    "\n",
    "    def percUP(self, i):\n",
    "        while i // 2 > 0:\n",
    "            if self.heaplist[i] > self.heaplist[i // 2]:\n",
    "                self.heaplist[i], self.heaplist[i // 2] = self.heaplist[i // 2], self.heaplist[i]\n",
    "            i //= 2\n",
    "\n",
    "    def percDown(self, i):\n",
    "        while i * 2 <= self.size:\n",
    "            mc = self.maxChild(i)\n",
    "            if self.heaplist[i] < self.heaplist[mc]:\n",
    "                self.heaplist[i], self.heaplist[mc] = self.heaplist[mc], self.heaplist[i]\n",
    "            i = mc\n",
    "\n",
    "    def maxChild(self, i):\n",
    "        if 2 * i + 1 > self.size:\n",
    "            return 2 * i\n",
    "        else:\n",
    "            if self.heaplist[2 * i] > self.heaplist[2 * i + 1]:\n",
    "                return 2 * i\n",
    "            else:\n",
    "                return 2 * i + 1\n"
   ]
  },
  {
   "cell_type": "markdown",
   "metadata": {},
   "source": [
    "## 快排解法\n",
    "### 用快排的思想来解Top K问题，必然要运用到”分治”。\n",
    "\n",
    "### 与快排相比，两者唯一的不同是在对”分治”结果的使用上。我们知道，分治函数会返回一个position，在position左边的数都比第position个数小，在position右边的数都比第position大。我们不妨不断调用分治函数，直到它输出的position = K-1，此时position前面的K个数（0到K-1）就是要找的前K个数。\n",
    "\n",
    "### 实现：\n",
    "### “分治”还是原来的那个分治，关键是getTopK的逻辑，务必要结合注释理解透彻，自动动手写写。\n",
    "\n",
    "### 时间复杂度\n",
    "### 若第k小的值出现在左侧(当中值pos - l + 1 > k)，向左递归，出现在右侧(当中值pos - l + 1 < k)，向右递归。最好O(n)，最坏会退化到O(n^2)\n",
    "\n",
    "\n",
    "### 速记：记住就行，基于partition函数的时间复杂度比较难证明，从来没考过。\n",
    "\n",
    "### 适用场景\n",
    "### 对照着堆排的解法来看，partition函数会不断地交换元素的位置，所以它肯定会改变数据输入的顺序；既然要交换元素的位置，那么所有元素必须要读到内存空间中，所以它会占用比较大的空间，至少能容纳整个数组；数据越多，占用的空间必然越大，海量数据处理起来相对吃力。\n",
    "\n",
    "### 但是，它的时间复杂度很低，意味着数据量不大时，效率极高。"
   ]
  },
  {
   "cell_type": "code",
   "execution_count": 3,
   "metadata": {},
   "outputs": [],
   "source": [
    "class Solution:\n",
    "    def getLeastNumbers(self, arr, k):\n",
    "        def partition(arr, l, r):\n",
    "            #选定中值\n",
    "            pivotvalue = arr[l]\n",
    "            lmark = l + 1\n",
    "            rmark = r\n",
    "            done = False\n",
    "\n",
    "            while not done:\n",
    "                while lmark <= rmark and arr[lmark] <= pivotvalue:\n",
    "                    lmark += 1\n",
    "                while rmark >= lmark and arr[rmark] >= pivotvalue:\n",
    "                    rmark -= 1\n",
    "                if rmark < lmark:\n",
    "                    done = True\n",
    "                else:\n",
    "                    arr[lmark], arr[rmark] = arr[rmark], arr[lmark]\n",
    "\n",
    "            arr[l], arr[rmark] = arr[rmark], arr[l]\n",
    "            return rmark\n",
    "        \n",
    "        def quicksort(arr, l, r, k):\n",
    "            if l > r:\n",
    "                return \n",
    "            pos = partition(arr, l, r)\n",
    "            num = pos - l + 1\n",
    "            if k == num:\n",
    "                return\n",
    "            if k < num:\n",
    "                quicksort(arr, l, pos - 1, k)\n",
    "            else:\n",
    "                quicksort(arr, pos+1, r, k - num)\n",
    "\n",
    "        if k == 0:\n",
    "            return []\n",
    "        quicksort(arr, 0, len(arr) - 1, k)\n",
    "        return arr[:k]\n"
   ]
  },
  {
   "cell_type": "markdown",
   "metadata": {},
   "source": [
    "# BFPRT算法原理\n",
    "\n",
    "## 引用： https://zhuanlan.zhihu.com/p/31498036\n",
    "\n",
    "## 1. 将n个元素划为 n/5 组，每组5个，至多只有一组由 n mod 5 个元素组成。\n",
    "## 2. 寻找这 n/5 个组中每一个组的中位数，这个过程可以用插入排序。\n",
    "## 3. 对步骤2中的 n/5 个中位数，重复步骤1和步骤2，递归下去，直到剩下一个数字。\n",
    "## 4. 最终剩下的数字即为pivot，把大于它的数全放左边，小于等于它的数全放右边。\n",
    "## 5. 判断pivot的位置与k的大小，有选择的对左边或右边递归。"
   ]
  },
  {
   "cell_type": "code",
   "execution_count": 8,
   "metadata": {},
   "outputs": [
    {
     "name": "stdout",
     "output_type": "stream",
     "text": [
      "13\n"
     ]
    }
   ],
   "source": [
    "import random\n",
    "class Solution:\n",
    "    def findKthLargest(self, a, k):\n",
    "        if len(a) < 5:\n",
    "            a.sort(reverse=True)\n",
    "            return a[k-1]\n",
    "    \n",
    "        total_num = len(a)\n",
    "        splits = total_num//5   #一共分成这么多组\n",
    "    \n",
    "        split_medians = []\n",
    "        for i in range(splits):\n",
    "            cur = sorted(a[i*5 : (i+1)*5]) #切片操作\n",
    "            mid = cur[2]\n",
    "            split_medians.append(mid)\n",
    "        m = self.findKthLargest(split_medians, splits//2)\n",
    "        m_index = a.index(m) #记录m第一次在列表中的位置\n",
    "\n",
    "\n",
    "        left, right, m_index = self.partion(a, m, m_index)\n",
    "        if k == len(left)+1:\n",
    "            return m\n",
    "        elif k <len(left)+1:\n",
    "            return self.findKthLargest(left, k)\n",
    "        else:\n",
    "            return self.findKthLargest(right, k-1-m_index)\n",
    "        \n",
    "    \n",
    "    \n",
    "    def partion(self,nums, m, m_index):\n",
    "\n",
    "        nums = nums[:m_index]+nums[m_index+1:]\n",
    "        if len(nums)<=1:\n",
    "            return 0,0,0\n",
    "        pivot = m\n",
    "        left = []\n",
    "        right = []\n",
    "        for i in nums:\n",
    "            if i >= pivot:\n",
    "                left.append(i)\n",
    "            else:\n",
    "                right.append(i)\n",
    "        return left,right, len(left)\n",
    "    \n",
    "sol = Solution()\n",
    " \n",
    "a = [5, 3, 1, 8, 2,10, 15, 18, 11,13, 16, 17, 12, 19, 0, 6, 4, 7, 9, 14]\n",
    "random.shuffle(a)\n",
    "k = 3\n",
    "print(sol.findKthLargest(a,7))"
   ]
  },
  {
   "cell_type": "markdown",
   "metadata": {},
   "source": [
    "# "
   ]
  },
  {
   "cell_type": "code",
   "execution_count": null,
   "metadata": {},
   "outputs": [],
   "source": []
  },
  {
   "cell_type": "code",
   "execution_count": null,
   "metadata": {},
   "outputs": [],
   "source": []
  },
  {
   "cell_type": "code",
   "execution_count": null,
   "metadata": {},
   "outputs": [],
   "source": []
  },
  {
   "cell_type": "markdown",
   "metadata": {},
   "source": [
    "# 勇者斗恶龙的题目：\n",
    "## 你的王国里有一条n个头的恶龙，你希望雇佣一些骑士把它杀死（砍掉所有的头）。村里有m个骑士可以雇佣，一个能力值为x的骑士可以砍掉恶龙一个致敬不超过x的头，且需要支付x个金币。如何雇佣骑士才能砍掉恶龙的所有头，且需要支付的金币最少？注意，一个骑士只能砍一个头（且不能被雇佣两次）。"
   ]
  },
  {
   "cell_type": "code",
   "execution_count": null,
   "metadata": {},
   "outputs": [],
   "source": []
  },
  {
   "cell_type": "code",
   "execution_count": null,
   "metadata": {},
   "outputs": [],
   "source": []
  },
  {
   "cell_type": "code",
   "execution_count": null,
   "metadata": {},
   "outputs": [],
   "source": []
  },
  {
   "cell_type": "code",
   "execution_count": null,
   "metadata": {},
   "outputs": [],
   "source": []
  },
  {
   "cell_type": "code",
   "execution_count": null,
   "metadata": {},
   "outputs": [],
   "source": []
  },
  {
   "cell_type": "markdown",
   "metadata": {},
   "source": [
    "# 0-1背包问题的动态规划算法\n",
    "\n",
    "## 参考： https://zhuanlan.zhihu.com/p/30959069"
   ]
  },
  {
   "cell_type": "code",
   "execution_count": null,
   "metadata": {},
   "outputs": [],
   "source": []
  },
  {
   "cell_type": "code",
   "execution_count": null,
   "metadata": {},
   "outputs": [],
   "source": []
  },
  {
   "cell_type": "code",
   "execution_count": null,
   "metadata": {},
   "outputs": [],
   "source": []
  },
  {
   "cell_type": "code",
   "execution_count": null,
   "metadata": {},
   "outputs": [],
   "source": []
  },
  {
   "cell_type": "markdown",
   "metadata": {},
   "source": [
    "# 动态规划总结\n",
    "## 参考： https://zhuanlan.zhihu.com/p/91582909\n"
   ]
  },
  {
   "cell_type": "code",
   "execution_count": null,
   "metadata": {},
   "outputs": [],
   "source": []
  },
  {
   "cell_type": "code",
   "execution_count": null,
   "metadata": {},
   "outputs": [],
   "source": []
  },
  {
   "cell_type": "code",
   "execution_count": null,
   "metadata": {},
   "outputs": [],
   "source": []
  },
  {
   "cell_type": "code",
   "execution_count": null,
   "metadata": {},
   "outputs": [],
   "source": []
  },
  {
   "cell_type": "markdown",
   "metadata": {},
   "source": [
    "# 几个必须“背诵”的贪心算法题\n"
   ]
  },
  {
   "cell_type": "code",
   "execution_count": null,
   "metadata": {},
   "outputs": [],
   "source": [
    "http://www.lintcode.com/problem/majority-number/\n",
    "http://www.lintcode.com/problem/create-maximum-number/\n",
    "http://www.lintcode.com/problem/jump-game-ii/\n",
    "http://www.lintcode.com/problem/jump-game/\n",
    "http://www.lintcode.com/problem/gas-station/\n",
    "http://www.lintcode.com/problem/delete-digits/\n",
    "http://www.lintcode.com/problem/task-scheduler/"
   ]
  },
  {
   "cell_type": "code",
   "execution_count": null,
   "metadata": {},
   "outputs": [],
   "source": []
  },
  {
   "cell_type": "code",
   "execution_count": null,
   "metadata": {},
   "outputs": [],
   "source": []
  },
  {
   "cell_type": "code",
   "execution_count": null,
   "metadata": {},
   "outputs": [],
   "source": []
  },
  {
   "cell_type": "code",
   "execution_count": null,
   "metadata": {},
   "outputs": [],
   "source": []
  },
  {
   "cell_type": "code",
   "execution_count": null,
   "metadata": {},
   "outputs": [],
   "source": []
  },
  {
   "cell_type": "code",
   "execution_count": null,
   "metadata": {},
   "outputs": [],
   "source": []
  },
  {
   "cell_type": "markdown",
   "metadata": {},
   "source": [
    "# morris算法"
   ]
  },
  {
   "cell_type": "code",
   "execution_count": null,
   "metadata": {},
   "outputs": [],
   "source": []
  },
  {
   "cell_type": "code",
   "execution_count": null,
   "metadata": {},
   "outputs": [],
   "source": []
  },
  {
   "cell_type": "markdown",
   "metadata": {},
   "source": [
    "# 拆分二叉搜索树"
   ]
  },
  {
   "cell_type": "code",
   "execution_count": null,
   "metadata": {},
   "outputs": [],
   "source": [
    "https://zhuanlan.zhihu.com/p/89422631"
   ]
  },
  {
   "cell_type": "code",
   "execution_count": null,
   "metadata": {},
   "outputs": [],
   "source": []
  },
  {
   "cell_type": "code",
   "execution_count": null,
   "metadata": {},
   "outputs": [],
   "source": []
  },
  {
   "cell_type": "code",
   "execution_count": null,
   "metadata": {},
   "outputs": [],
   "source": []
  },
  {
   "cell_type": "code",
   "execution_count": null,
   "metadata": {},
   "outputs": [],
   "source": []
  },
  {
   "cell_type": "code",
   "execution_count": null,
   "metadata": {},
   "outputs": [],
   "source": []
  },
  {
   "cell_type": "markdown",
   "metadata": {},
   "source": [
    "# 反转二叉树  how to invert a binary tree"
   ]
  },
  {
   "cell_type": "code",
   "execution_count": null,
   "metadata": {},
   "outputs": [],
   "source": []
  },
  {
   "cell_type": "code",
   "execution_count": null,
   "metadata": {},
   "outputs": [],
   "source": []
  },
  {
   "cell_type": "code",
   "execution_count": null,
   "metadata": {},
   "outputs": [],
   "source": []
  },
  {
   "cell_type": "markdown",
   "metadata": {},
   "source": [
    "# 反转链表"
   ]
  },
  {
   "cell_type": "code",
   "execution_count": null,
   "metadata": {},
   "outputs": [],
   "source": []
  }
 ],
 "metadata": {
  "kernelspec": {
   "display_name": "Python 3",
   "language": "python",
   "name": "python3"
  },
  "language_info": {
   "codemirror_mode": {
    "name": "ipython",
    "version": 3
   },
   "file_extension": ".py",
   "mimetype": "text/x-python",
   "name": "python",
   "nbconvert_exporter": "python",
   "pygments_lexer": "ipython3",
   "version": "3.8.3"
  }
 },
 "nbformat": 4,
 "nbformat_minor": 4
}
