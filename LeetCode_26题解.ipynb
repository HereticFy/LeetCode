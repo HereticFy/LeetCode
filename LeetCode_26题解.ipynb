{
 "cells": [
  {
   "cell_type": "code",
   "execution_count": null,
   "metadata": {},
   "outputs": [],
   "source": []
  },
  {
   "cell_type": "code",
   "execution_count": null,
   "metadata": {},
   "outputs": [],
   "source": [
    "class Solution:\n",
    "    def removeDuplicates(self, nums: List[int]) -> int:\n",
    "        if not nums:\n",
    "            return 0\n",
    "        temp = nums[0]\n",
    "        res = [temp]\n",
    "        p = 1\n",
    "        n = len(nums)\n",
    "        while p != n:\n",
    "            if temp == nums[p]:\n",
    "                del nums[p]\n",
    "            else:\n",
    "                temp = nums[p]\n",
    "                p += 1\n",
    "            n = len(nums)"
   ]
  },
  {
   "cell_type": "code",
   "execution_count": null,
   "metadata": {},
   "outputs": [],
   "source": []
  },
  {
   "cell_type": "code",
   "execution_count": null,
   "metadata": {},
   "outputs": [],
   "source": [
    "class Solution:\n",
    "    def removeDuplicates(self, nums: List[int]) -> int:\n",
    "        if not nums:\n",
    "            return 0\n",
    "        \n",
    "        cur = 0\n",
    "        move = 1\n",
    "        \n",
    "        while move < len(nums):\n",
    "            if nums[cur] != nums[move]:\n",
    "                cur += 1\n",
    "                nums[cur] = nums[move]\n",
    "            move += 1\n",
    "            \n",
    "        return cur + 1"
   ]
  },
  {
   "cell_type": "code",
   "execution_count": null,
   "metadata": {},
   "outputs": [],
   "source": []
  }
 ],
 "metadata": {
  "kernelspec": {
   "display_name": "Python 3",
   "language": "python",
   "name": "python3"
  },
  "language_info": {
   "codemirror_mode": {
    "name": "ipython",
    "version": 3
   },
   "file_extension": ".py",
   "mimetype": "text/x-python",
   "name": "python",
   "nbconvert_exporter": "python",
   "pygments_lexer": "ipython3",
   "version": "3.8.3"
  }
 },
 "nbformat": 4,
 "nbformat_minor": 4
}
