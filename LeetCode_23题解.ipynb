{
 "cells": [
  {
   "cell_type": "markdown",
   "metadata": {},
   "source": [
    "# 版本1：分而治之"
   ]
  },
  {
   "cell_type": "markdown",
   "metadata": {},
   "source": [
    "## 首先看一下mergeTwoLists（l1, l2）这个函数的复杂度：\n",
    "## 这个函数每次取链表的第一个元素进行比较，比较完了把小的接在返回结果链表的后面，大的继续和其他的比较。 所以它的时间复杂度是 O(max(len(l1), len(l2))) ~ O(n)\n",
    "## 接下来我们看一下merge(lists, left, right)这个函数。 这个函数非常类似归并排序的分割，一直把lists这个集合分割成只有一个链表，然后用mergeTwoLists（l1, l2）进行两两合并。 假设lists的长度是k，那么这里分割的复杂度是O（log（k））。\n",
    "## 每次合并都要用到mergeTwoLists（l1, l2），那我们假设每个链表的平均长度是n，那么在第一次合并的时候，我们有k个链表要合并，意思就是要合并 2/k次，每次要消耗O（n）的复杂度，那么第一次合并的复杂度是O（2/k * n）～O（kn）。一共需要合并O（logk）次，所以我们就得到了这个函数的复杂度为 O（k * n * log（k））"
   ]
  },
  {
   "cell_type": "code",
   "execution_count": null,
   "metadata": {},
   "outputs": [],
   "source": [
    "# Definition for singly-linked list.\n",
    "# class ListNode:\n",
    "#     def __init__(self, val=0, next=None):\n",
    "#         self.val = val\n",
    "#         self.next = next\n",
    "class Solution:\n",
    "    def mergeKLists(self, lists: List[ListNode]) -> ListNode:\n",
    "        if not lists:\n",
    "            return\n",
    "        if len(lists) == 1 and not lists[0]:\n",
    "            return\n",
    "        return self.merge(lists, 0, len(lists) - 1)\n",
    "    \n",
    "    def merge(self, lists, left, right):\n",
    "        if left == right:\n",
    "            return lists[left]\n",
    "        mid = left + (right - left) // 2\n",
    "        list1 = self.merge(lists, left, mid)\n",
    "        list2 = self.merge(lists, mid + 1, right)\n",
    "        return self.mergeTwoLists(list1, list2)\n",
    "\n",
    "    \n",
    "    def mergeTwoLists(self, l1: ListNode, l2: ListNode) -> ListNode:\n",
    "        if l1 == None:\n",
    "            return l2\n",
    "        if l2 == None:\n",
    "            return l1\n",
    "        temp = res_head = ListNode()\n",
    "        while l1 and l2:\n",
    "            if l1.val <= l2.val:\n",
    "                temp.next = ListNode(l1.val)\n",
    "                temp = temp.next\n",
    "                l1 = l1.next\n",
    "            elif l1.val > l2.val:\n",
    "                temp.next = ListNode(l2.val)\n",
    "                temp = temp.next\n",
    "                l2 = l2.next\n",
    "        if l1 == None:\n",
    "            temp.next = l2\n",
    "        else:\n",
    "            temp.next = l1\n",
    "        return res_head.next"
   ]
  },
  {
   "cell_type": "markdown",
   "metadata": {},
   "source": [
    "# 版本2：优先队列"
   ]
  },
  {
   "cell_type": "markdown",
   "metadata": {},
   "source": [
    "## 采用优先队列这个数据结构。我们把链表的头节点都push进去。然后我们一个一个取出来，如果取出来的点还有next，那么我们就把它赋值完了后，指向下个点在push进去，最后等全部点都取完了，连成一条链表就是我们要的结果了。\n",
    "## 复杂度：同上，我们假设有k个链表，链表的平均长度为n。那么优先队列的删除和插入都是O(logk)。我们一共有kn个点，所以复杂度为 O（k * n * log（k））"
   ]
  },
  {
   "cell_type": "code",
   "execution_count": null,
   "metadata": {},
   "outputs": [],
   "source": [
    "# Definition for singly-linked list.\n",
    "# class ListNode:\n",
    "#     def __init__(self, val=0, next=None):\n",
    "#         self.val = val\n",
    "#         self.next = next\n",
    "\n",
    "class Solution:\n",
    "    def mergeKLists(self, lists: List[ListNode]) -> ListNode:\n",
    "        if not lists or len(lists) == 0:\n",
    "            return None\n",
    "        import heapq\n",
    "        heap = []\n",
    "        \n",
    "        for node in lists:\n",
    "            while node:\n",
    "                heapq.heappush(heap, node.val)\n",
    "                node = node.next\n",
    "        dummy = ListNode(None)\n",
    "        cur = dummy\n",
    "        \n",
    "        while heap:\n",
    "            temp_node = ListNode(heappop(heap))\n",
    "            cur.next = temp_node\n",
    "            cur = temp_node\n",
    "        return dummy.next\n"
   ]
  },
  {
   "cell_type": "code",
   "execution_count": null,
   "metadata": {},
   "outputs": [],
   "source": []
  },
  {
   "cell_type": "code",
   "execution_count": null,
   "metadata": {},
   "outputs": [],
   "source": []
  }
 ],
 "metadata": {
  "kernelspec": {
   "display_name": "Python 3",
   "language": "python",
   "name": "python3"
  },
  "language_info": {
   "codemirror_mode": {
    "name": "ipython",
    "version": 3
   },
   "file_extension": ".py",
   "mimetype": "text/x-python",
   "name": "python",
   "nbconvert_exporter": "python",
   "pygments_lexer": "ipython3",
   "version": "3.8.3"
  }
 },
 "nbformat": 4,
 "nbformat_minor": 4
}
