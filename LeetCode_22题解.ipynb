{
 "cells": [
  {
   "cell_type": "markdown",
   "metadata": {},
   "source": [
    "# 版本1：动态规划"
   ]
  },
  {
   "cell_type": "markdown",
   "metadata": {},
   "source": [
    "## 思路：\n",
    "第 1 步：定义状态 dp[i]\n",
    "\n",
    "使用 i 对括号能够生成的组合。\n",
    "\n",
    "注意：每一个状态都是列表的形式。\n",
    "\n",
    "第 2 步：状态转移方程：\n",
    "\n",
    "i 对括号的一个组合，在 i - 1 对括号的基础上得到；\n",
    "i 对括号的一个组合，一定以左括号 \"(\" 开始（不一定以 \")\" 结尾），为此，我们可以枚举右括号 \")\" 的位置，得到所有的组合；\n",
    "枚举的方式就是枚举左括号 \"(\" 和右括号 \")\" 中间可能的合法的括号对数，而剩下的合法的括号对数在与第一个左括号 \"(\" 配对的右括号 \")\" 的后面，这就用到了以前的状态。\n",
    "状态转移方程是：\n",
    "\n",
    "dp[i] = \"(\" + dp[可能的括号对数] + \")\" + dp[剩下的括号对数]\n",
    "\n",
    "“可能的括号对数” 与 “剩下的括号对数” 之和得为 i，故“可能的括号对数” j 可以从 0 开始，最多不能超过 i， 即 i - 1；\n",
    "“剩下的括号对数” + j = i - 1，故 “剩下的括号对数” = i - j - 1。\n",
    "整理得：\n",
    "\n",
    "dp[i] = \"(\" + dp[j] + \")\" + dp[i- j - 1] , j = 0, 1, ..., i - 1\n",
    "\n",
    "第 3 步：思考初始状态和输出：\n",
    "\n",
    "初始状态：因为我们需要 0 对括号这种状态，因此状态数组 dp 从 0 开始，0 个括号当然就是 [\"\"]。\n",
    "输出：dp[n] 。\n",
    "这个方法暂且就叫它动态规划，这么用也是很神奇的，它有下面两个特点：\n",
    "\n",
    "1、自底向上：从小规模问题开始，逐渐得到大规模问题的解集；\n",
    "\n",
    "2、无后效性：后面的结果的得到，不会影响到前面的结果。"
   ]
  },
  {
   "cell_type": "markdown",
   "metadata": {},
   "source": [
    "## 简单解释： dp[i]代表i个括号的总共可能性\n",
    "## 如果i个括号组合有效，且i>=1:\n",
    "## 那么它肯定符合 dp[i] = ( + dp[j] + ) + dp[i - j - 1]\n",
    "## 因为 j + (i - j - 1) = i - 1 (这里这个-1 就是我们标出来了的那个括号！)"
   ]
  },
  {
   "cell_type": "code",
   "execution_count": null,
   "metadata": {},
   "outputs": [],
   "source": [
    "class Solution:\n",
    "    def generateParenthesis(self, n):\n",
    "        dp=[[] for i in range(n+1)]\n",
    "        dp[0].append(\"\")\n",
    "        for i in range(n+1):\n",
    "            for j in range(i):\n",
    "                dp[i]+=[\"(\" + x + \")\" + y for x in dp[j] for y in dp[i-j-1]]\n",
    "                \n",
    "        return dp[n]"
   ]
  },
  {
   "cell_type": "code",
   "execution_count": null,
   "metadata": {},
   "outputs": [],
   "source": [
    "class Solution:\n",
    "    def generateParenthesis(self, n: int) -> List[str]:\n",
    "        dp = [[] for _ in range(n+1)]         # dp[i]存放i组括号的所有有效组合\n",
    "        dp[0] = [\"\"]                          # 初始化dp[0]\n",
    "        for i in range(1, n+1):               # 计算dp[i]\n",
    "            for p in range(i):                # 遍历p\n",
    "                l1 = dp[p]                    # 得到dp[p]的所有有效组合\n",
    "                l2 = dp[i-1-p]                # 得到dp[q]的所有有效组合\n",
    "                for k1 in l1:\n",
    "                    for k2 in l2:\n",
    "                        dp[i].append(\"({0}){1}\".format(k1, k2))\n",
    "            \n",
    "        return dp[n]"
   ]
  },
  {
   "cell_type": "markdown",
   "metadata": {},
   "source": [
    "# 版本2：dfs"
   ]
  },
  {
   "cell_type": "markdown",
   "metadata": {},
   "source": [
    "如果完成一件事情有很多种方法，并且每一种方法分成若干步骤，那多半就可以使用“回溯”算法完成。\n",
    "\n",
    "“回溯”算法的基本思想是“尝试搜索”，一条路如果走不通（不能得到想要的结果），就回到上一个“路口”，尝试走另一条路。\n",
    "\n",
    "因此，“回溯”算法的时间复杂度一般不低。如果能提前分析出，走这一条路并不能得到想要的结果，可以跳过这个分支，这一步操作叫“剪枝”。\n",
    "\n",
    "做“回溯”算法问题的基本套路是：\n",
    "\n",
    "1、使用题目中给出的示例，画树形结构图，以便分析出递归结构；\n",
    "\n",
    "一般来说，树形图不用画完，就能够分析出递归结构和解题思路。\n",
    "\n",
    "2、分析一个结点可以产生枝叶的条件、递归到哪里终止、是否可以剪枝、符合题意的结果在什么地方出现（可能在叶子结点，也可能在中间的结点）；\n",
    "\n",
    "3、完成以上两步以后，就要编写代码实现上述分析的过程，使用代码在画出的树形结构上搜索符合题意的结果。\n",
    "\n",
    "在树形结构上搜索结果集，使用的方法是执行一次“深度优先遍历”。在遍历的过程中，可能需要使用“状态变量”。"
   ]
  },
  {
   "cell_type": "code",
   "execution_count": null,
   "metadata": {},
   "outputs": [],
   "source": [
    "class Solution:\n",
    "    def generateParenthesis(self, n: int) -> List[str]:\n",
    "\n",
    "        res = []\n",
    "        cur_str = ''\n",
    "\n",
    "        def dfs(cur_str, left, right):\n",
    "            \"\"\"\n",
    "            :param cur_str: 从根结点到叶子结点的路径字符串\n",
    "            :param left: 左括号还可以使用的个数\n",
    "            :param right: 右括号还可以使用的个数\n",
    "            :return:\n",
    "            \"\"\"\n",
    "            if left == 0 and right == 0:\n",
    "                res.append(cur_str)\n",
    "                return\n",
    "            if right < left:   #右括号剩余数量是不能大于左括号的！ 如果出现这个情况，说明在某一时刻，添加的右括号数量大于了左括号，这显然是错误的\n",
    "                return\n",
    "            if left > 0:\n",
    "                dfs(cur_str + '(', left - 1, right)\n",
    "            if right > 0:\n",
    "                dfs(cur_str + ')', left, right - 1)\n",
    "\n",
    "        dfs(cur_str, n, n)\n",
    "        return res\n",
    "\n"
   ]
  },
  {
   "cell_type": "markdown",
   "metadata": {},
   "source": [
    "## 题目复杂度分析以及讲解可见：\n",
    "### https://blog.csdn.net/hgkjbm/article/details/104297539\n",
    "### https://blog.csdn.net/hgkjbm/article/details/104310986"
   ]
  },
  {
   "cell_type": "code",
   "execution_count": null,
   "metadata": {},
   "outputs": [],
   "source": []
  },
  {
   "cell_type": "code",
   "execution_count": null,
   "metadata": {},
   "outputs": [],
   "source": []
  },
  {
   "cell_type": "code",
   "execution_count": null,
   "metadata": {},
   "outputs": [],
   "source": []
  }
 ],
 "metadata": {
  "kernelspec": {
   "display_name": "Python 3",
   "language": "python",
   "name": "python3"
  },
  "language_info": {
   "codemirror_mode": {
    "name": "ipython",
    "version": 3
   },
   "file_extension": ".py",
   "mimetype": "text/x-python",
   "name": "python",
   "nbconvert_exporter": "python",
   "pygments_lexer": "ipython3",
   "version": "3.8.3"
  }
 },
 "nbformat": 4,
 "nbformat_minor": 4
}
